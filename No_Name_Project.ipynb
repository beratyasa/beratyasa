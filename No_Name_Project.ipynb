{
  "nbformat": 4,
  "nbformat_minor": 0,
  "metadata": {
    "colab": {
      "name": "Day1_Basic_Data_Types.ipynb",
      "version": "0.3.2",
      "provenance": [],
      "collapsed_sections": [
        "seiM10jgh2Dk",
        "m75fdDP4h2ES",
        "W9kwn30gh2Fn",
        "KBwwWUGYh2Ho",
        "4gFdaeT4h2I4",
        "tFFrugF8h2Kh",
        "1F3pxISwh2Ks"
      ]
    },
    "kernelspec": {
      "display_name": "Python 3",
      "language": "python",
      "name": "python3"
    }
  },
  "cells": [
    {
      "cell_type": "markdown",
      "metadata": {
        "id": "e-b2jkHTh2C4",
        "colab_type": "text"
      },
      "source": [
        "# Introductiton to Python"
      ]
    },
    {
      "cell_type": "markdown",
      "metadata": {
        "id": "LSxonrvDh2C5",
        "colab_type": "text"
      },
      "source": [
        "## Define variables"
      ]
    },
    {
      "cell_type": "markdown",
      "metadata": {
        "id": "gksfCfibh2C7",
        "colab_type": "text"
      },
      "source": [
        "Python is dynamicaly-typed. "
      ]
    },
    {
      "cell_type": "code",
      "metadata": {
        "id": "4HPNb-pth2C7",
        "colab_type": "code",
        "colab": {}
      },
      "source": [
        "x = 19"
      ],
      "execution_count": 0,
      "outputs": []
    },
    {
      "cell_type": "code",
      "metadata": {
        "id": "cHIV-NRjh2C_",
        "colab_type": "code",
        "colab": {}
      },
      "source": [
        "x = \"Hello Guys\""
      ],
      "execution_count": 0,
      "outputs": []
    },
    {
      "cell_type": "markdown",
      "metadata": {
        "id": "UdG1xoP6h2DD",
        "colab_type": "text"
      },
      "source": [
        "Variable names CANNOT start with a number"
      ]
    },
    {
      "cell_type": "code",
      "metadata": {
        "id": "z-ZsgFFQh2DD",
        "colab_type": "code",
        "colab": {}
      },
      "source": [
        "x1 = 10"
      ],
      "execution_count": 0,
      "outputs": []
    },
    {
      "cell_type": "code",
      "metadata": {
        "id": "-lJFfaT3h2DG",
        "colab_type": "code",
        "outputId": "7e0f9a42-98e5-4473-bbfb-ae8f60a9ddf2",
        "colab": {
          "base_uri": "https://localhost:8080/",
          "height": 129
        }
      },
      "source": [
        "1x = 10"
      ],
      "execution_count": 0,
      "outputs": [
        {
          "output_type": "error",
          "ename": "SyntaxError",
          "evalue": "ignored",
          "traceback": [
            "\u001b[0;36m  File \u001b[0;32m\"<ipython-input-5-d6bc7cef26a6>\"\u001b[0;36m, line \u001b[0;32m1\u001b[0m\n\u001b[0;31m    1x = 10\u001b[0m\n\u001b[0m     ^\u001b[0m\n\u001b[0;31mSyntaxError\u001b[0m\u001b[0;31m:\u001b[0m invalid syntax\n"
          ]
        }
      ]
    },
    {
      "cell_type": "code",
      "metadata": {
        "id": "OuMroinkh2DL",
        "colab_type": "code",
        "colab": {}
      },
      "source": [
        "veryveryveryveryveryveryveryveryveryveryveryverylogname = 10"
      ],
      "execution_count": 0,
      "outputs": []
    },
    {
      "cell_type": "code",
      "metadata": {
        "id": "DAI4YNoYh2DO",
        "colab_type": "code",
        "colab": {}
      },
      "source": [
        "veryveryveryveryveryveryveryveryveryveryveryverylogname"
      ],
      "execution_count": 0,
      "outputs": []
    },
    {
      "cell_type": "markdown",
      "metadata": {
        "id": "NXtV3Vf7h2DS",
        "colab_type": "text"
      },
      "source": [
        "**Green colored** names are saved names in python"
      ]
    },
    {
      "cell_type": "code",
      "metadata": {
        "id": "qnbyFrjNh2DT",
        "colab_type": "code",
        "colab": {}
      },
      "source": [
        "print('Hello')"
      ],
      "execution_count": 0,
      "outputs": []
    },
    {
      "cell_type": "code",
      "metadata": {
        "id": "PcyO6N0oh2DX",
        "colab_type": "code",
        "colab": {}
      },
      "source": [
        "# print = 10"
      ],
      "execution_count": 0,
      "outputs": []
    },
    {
      "cell_type": "code",
      "metadata": {
        "id": "rM-6qm_Ih2DZ",
        "colab_type": "code",
        "colab": {}
      },
      "source": [
        "print"
      ],
      "execution_count": 0,
      "outputs": []
    },
    {
      "cell_type": "code",
      "metadata": {
        "id": "o8kUBsKAh2Dd",
        "colab_type": "code",
        "colab": {}
      },
      "source": [
        "print('Hello')"
      ],
      "execution_count": 0,
      "outputs": []
    },
    {
      "cell_type": "code",
      "metadata": {
        "id": "5whBUCeih2Dg",
        "colab_type": "code",
        "colab": {}
      },
      "source": [
        "while = 1"
      ],
      "execution_count": 0,
      "outputs": []
    },
    {
      "cell_type": "markdown",
      "metadata": {
        "id": "seiM10jgh2Dk",
        "colab_type": "text"
      },
      "source": [
        "## Print statemtents"
      ]
    },
    {
      "cell_type": "code",
      "metadata": {
        "id": "635alq6uh2Dl",
        "colab_type": "code",
        "colab": {}
      },
      "source": [
        "print('My name is Pablo')"
      ],
      "execution_count": 0,
      "outputs": []
    },
    {
      "cell_type": "code",
      "metadata": {
        "id": "s9Wp3KcYh2Dp",
        "colab_type": "code",
        "colab": {}
      },
      "source": [
        "name = 'Pablo'\n",
        "surname = 'Ortiz de Galisteo'"
      ],
      "execution_count": 0,
      "outputs": []
    },
    {
      "cell_type": "code",
      "metadata": {
        "id": "uyebaVoOh2Du",
        "colab_type": "code",
        "colab": {}
      },
      "source": [
        "print('My name is', name, surname)"
      ],
      "execution_count": 0,
      "outputs": []
    },
    {
      "cell_type": "code",
      "metadata": {
        "id": "r-dFLuedh2D1",
        "colab_type": "code",
        "colab": {}
      },
      "source": [
        "print('My name is', name, surname, sep=' ')"
      ],
      "execution_count": 0,
      "outputs": []
    },
    {
      "cell_type": "code",
      "metadata": {
        "id": "UMgeMQzEh2D7",
        "colab_type": "code",
        "colab": {}
      },
      "source": [
        "print('My name is', name, surname, sep='111')"
      ],
      "execution_count": 0,
      "outputs": []
    },
    {
      "cell_type": "code",
      "metadata": {
        "id": "ZpTspuGZh2D_",
        "colab_type": "code",
        "colab": {}
      },
      "source": [
        "print('My name is {0} {1}'.format(name, surname))"
      ],
      "execution_count": 0,
      "outputs": []
    },
    {
      "cell_type": "code",
      "metadata": {
        "id": "_JyT3fA-h2EC",
        "colab_type": "code",
        "colab": {}
      },
      "source": [
        "print('My name is {0} {1}, {0}'.format(name, surname))"
      ],
      "execution_count": 0,
      "outputs": []
    },
    {
      "cell_type": "code",
      "metadata": {
        "id": "M24n64wPh2EF",
        "colab_type": "code",
        "colab": {}
      },
      "source": [
        "pi = 3.14159\n",
        "\n",
        "print('The value of pi is {0}'.format(pi))"
      ],
      "execution_count": 0,
      "outputs": []
    },
    {
      "cell_type": "code",
      "metadata": {
        "id": "sQPGhYQHh2EI",
        "colab_type": "code",
        "colab": {}
      },
      "source": [
        "print('Twice the value of pi is {0}'.format(2 * pi))"
      ],
      "execution_count": 0,
      "outputs": []
    },
    {
      "cell_type": "code",
      "metadata": {
        "id": "N3ApbZ1xh2EL",
        "colab_type": "code",
        "colab": {}
      },
      "source": [
        "print('Pi = {0:.2f}'.format(pi))"
      ],
      "execution_count": 0,
      "outputs": []
    },
    {
      "cell_type": "markdown",
      "metadata": {
        "id": "1YzMq1FIh2EQ",
        "colab_type": "text"
      },
      "source": [
        "# Data Types"
      ]
    },
    {
      "cell_type": "markdown",
      "metadata": {
        "id": "nfIULryhh2ER",
        "colab_type": "text"
      },
      "source": [
        "Python has 4 main data types: strings, integers and floats, and booleans"
      ]
    },
    {
      "cell_type": "markdown",
      "metadata": {
        "id": "m75fdDP4h2ES",
        "colab_type": "text"
      },
      "source": [
        "### Numeric Types"
      ]
    },
    {
      "cell_type": "code",
      "metadata": {
        "id": "dTfbCyjqh2ET",
        "colab_type": "code",
        "colab": {}
      },
      "source": [
        "x = 4\n",
        "y = 1.55"
      ],
      "execution_count": 0,
      "outputs": []
    },
    {
      "cell_type": "code",
      "metadata": {
        "id": "OvnGVdQzh2EW",
        "colab_type": "code",
        "colab": {}
      },
      "source": [
        "type(x)"
      ],
      "execution_count": 0,
      "outputs": []
    },
    {
      "cell_type": "code",
      "metadata": {
        "id": "i48TGWpUh2Ej",
        "colab_type": "code",
        "colab": {}
      },
      "source": [
        "type(y)"
      ],
      "execution_count": 0,
      "outputs": []
    },
    {
      "cell_type": "code",
      "metadata": {
        "id": "x0H7eaNah2En",
        "colab_type": "code",
        "colab": {}
      },
      "source": [
        "type(x)\n",
        "type(y)"
      ],
      "execution_count": 0,
      "outputs": []
    },
    {
      "cell_type": "code",
      "metadata": {
        "id": "wzpebTn2h2Ew",
        "colab_type": "code",
        "colab": {}
      },
      "source": [
        "print(type(x))\n",
        "print(type(y))"
      ],
      "execution_count": 0,
      "outputs": []
    },
    {
      "cell_type": "markdown",
      "metadata": {
        "id": "DI_6sEi4h2Ez",
        "colab_type": "text"
      },
      "source": [
        "**Basic operations with numbers**"
      ]
    },
    {
      "cell_type": "code",
      "metadata": {
        "id": "UH95tQ6Sh2E1",
        "colab_type": "code",
        "colab": {}
      },
      "source": [
        "x + y"
      ],
      "execution_count": 0,
      "outputs": []
    },
    {
      "cell_type": "code",
      "metadata": {
        "id": "l6co7PKoh2E4",
        "colab_type": "code",
        "colab": {}
      },
      "source": [
        "w = x - y\n",
        "w"
      ],
      "execution_count": 0,
      "outputs": []
    },
    {
      "cell_type": "code",
      "metadata": {
        "id": "utTzNpJxh2E7",
        "colab_type": "code",
        "colab": {}
      },
      "source": [
        "x / y"
      ],
      "execution_count": 0,
      "outputs": []
    },
    {
      "cell_type": "code",
      "metadata": {
        "id": "F0-Q02lQh2FA",
        "colab_type": "code",
        "colab": {}
      },
      "source": [
        "y * 4"
      ],
      "execution_count": 0,
      "outputs": []
    },
    {
      "cell_type": "markdown",
      "metadata": {
        "id": "P1eW9dg4h2FC",
        "colab_type": "text"
      },
      "source": [
        "% returns de reminder of a division"
      ]
    },
    {
      "cell_type": "code",
      "metadata": {
        "id": "5OjxsSH9h2FD",
        "colab_type": "code",
        "outputId": "1ea9e2b7-b3d8-4f64-8ce9-80dd3ae07f20",
        "colab": {
          "base_uri": "https://localhost:8080/",
          "height": 34
        }
      },
      "source": [
        "10 % 3"
      ],
      "execution_count": 0,
      "outputs": [
        {
          "output_type": "execute_result",
          "data": {
            "text/plain": [
              "1"
            ]
          },
          "metadata": {
            "tags": []
          },
          "execution_count": 8
        }
      ]
    },
    {
      "cell_type": "markdown",
      "metadata": {
        "id": "LpEgAxBBh2FH",
        "colab_type": "text"
      },
      "source": [
        "Power"
      ]
    },
    {
      "cell_type": "code",
      "metadata": {
        "id": "T3a70u7hh2FI",
        "colab_type": "code",
        "colab": {}
      },
      "source": [
        "4 ** 2"
      ],
      "execution_count": 0,
      "outputs": []
    },
    {
      "cell_type": "markdown",
      "metadata": {
        "id": "bJTOR2ASh2FO",
        "colab_type": "text"
      },
      "source": [
        "Squared root"
      ]
    },
    {
      "cell_type": "code",
      "metadata": {
        "id": "igp8RF8Qh2FS",
        "colab_type": "code",
        "colab": {}
      },
      "source": [
        "16 ** (1/2)"
      ],
      "execution_count": 0,
      "outputs": []
    },
    {
      "cell_type": "markdown",
      "metadata": {
        "id": "dWKsazDMh2FX",
        "colab_type": "text"
      },
      "source": [
        "__Cast string to number__"
      ]
    },
    {
      "cell_type": "code",
      "metadata": {
        "id": "t2hzK0dgh2FY",
        "colab_type": "code",
        "colab": {}
      },
      "source": [
        "a = '1993'"
      ],
      "execution_count": 0,
      "outputs": []
    },
    {
      "cell_type": "code",
      "metadata": {
        "id": "6q09d07wh2Fa",
        "colab_type": "code",
        "outputId": "c6655683-c3d0-4c23-c23c-b75c48ce95f8",
        "colab": {
          "base_uri": "https://localhost:8080/",
          "height": 34
        }
      },
      "source": [
        "type(a)"
      ],
      "execution_count": 0,
      "outputs": [
        {
          "output_type": "execute_result",
          "data": {
            "text/plain": [
              "str"
            ]
          },
          "metadata": {
            "tags": []
          },
          "execution_count": 10
        }
      ]
    },
    {
      "cell_type": "code",
      "metadata": {
        "id": "KRauimwYh2Fd",
        "colab_type": "code",
        "outputId": "d17f2abc-88a8-498f-f2db-8a49868a59ad",
        "colab": {
          "base_uri": "https://localhost:8080/",
          "height": 34
        }
      },
      "source": [
        "a_int = int(a)\n",
        "a_int"
      ],
      "execution_count": 0,
      "outputs": [
        {
          "output_type": "execute_result",
          "data": {
            "text/plain": [
              "1993"
            ]
          },
          "metadata": {
            "tags": []
          },
          "execution_count": 11
        }
      ]
    },
    {
      "cell_type": "code",
      "metadata": {
        "id": "ylfN3o3wh2Ff",
        "colab_type": "code",
        "outputId": "1116bc13-838b-4ac2-8eb3-840fbbe8344f",
        "colab": {
          "base_uri": "https://localhost:8080/",
          "height": 34
        }
      },
      "source": [
        "type(a_int)"
      ],
      "execution_count": 0,
      "outputs": [
        {
          "output_type": "execute_result",
          "data": {
            "text/plain": [
              "int"
            ]
          },
          "metadata": {
            "tags": []
          },
          "execution_count": 12
        }
      ]
    },
    {
      "cell_type": "code",
      "metadata": {
        "id": "6ZJenWS2h2Fk",
        "colab_type": "code",
        "outputId": "fe81578d-e10c-41ec-f243-407c4fbcfbcd",
        "colab": {
          "base_uri": "https://localhost:8080/",
          "height": 34
        }
      },
      "source": [
        "a_float = float(a)\n",
        "a_float"
      ],
      "execution_count": 0,
      "outputs": [
        {
          "output_type": "execute_result",
          "data": {
            "text/plain": [
              "1993.0"
            ]
          },
          "metadata": {
            "tags": []
          },
          "execution_count": 13
        }
      ]
    },
    {
      "cell_type": "markdown",
      "metadata": {
        "id": "W9kwn30gh2Fn",
        "colab_type": "text"
      },
      "source": [
        "### String Type"
      ]
    },
    {
      "cell_type": "markdown",
      "metadata": {
        "id": "gMP3wVF9h2Fo",
        "colab_type": "text"
      },
      "source": [
        "Strings can be defined using single quotes ', double quotes \", or triple double quotes \"\"\" for multiline strings."
      ]
    },
    {
      "cell_type": "code",
      "metadata": {
        "id": "kh1jqemNh2Fp",
        "colab_type": "code",
        "colab": {}
      },
      "source": [
        "name = \"Pablo Ortiz\"\n",
        "city = 'Madrid'"
      ],
      "execution_count": 0,
      "outputs": []
    },
    {
      "cell_type": "code",
      "metadata": {
        "id": "d293KCIxh2Fs",
        "colab_type": "code",
        "colab": {}
      },
      "source": [
        "example = \"It's fantastic!\""
      ],
      "execution_count": 0,
      "outputs": []
    },
    {
      "cell_type": "code",
      "metadata": {
        "id": "i-69uekPh2Fu",
        "colab_type": "code",
        "outputId": "eb90e1c9-3aeb-4dd6-e1ab-d282e53dbeb0",
        "colab": {
          "base_uri": "https://localhost:8080/",
          "height": 129
        }
      },
      "source": [
        "example = 'It's fantastic''"
      ],
      "execution_count": 0,
      "outputs": [
        {
          "output_type": "error",
          "ename": "SyntaxError",
          "evalue": "ignored",
          "traceback": [
            "\u001b[0;36m  File \u001b[0;32m\"<ipython-input-14-1056ec1b6f9d>\"\u001b[0;36m, line \u001b[0;32m1\u001b[0m\n\u001b[0;31m    example = 'It's fantastic''\u001b[0m\n\u001b[0m                  ^\u001b[0m\n\u001b[0;31mSyntaxError\u001b[0m\u001b[0;31m:\u001b[0m invalid syntax\n"
          ]
        }
      ]
    },
    {
      "cell_type": "code",
      "metadata": {
        "id": "YvTNtqBch2Fw",
        "colab_type": "code",
        "outputId": "9beac65f-8cc4-4791-b800-245c08ab2819",
        "colab": {
          "base_uri": "https://localhost:8080/",
          "height": 34
        }
      },
      "source": [
        "example = 'This is a \"\" test'\n",
        "example"
      ],
      "execution_count": 0,
      "outputs": [
        {
          "output_type": "execute_result",
          "data": {
            "text/plain": [
              "'This is a \"\" test'"
            ]
          },
          "metadata": {
            "tags": []
          },
          "execution_count": 17
        }
      ]
    },
    {
      "cell_type": "code",
      "metadata": {
        "id": "NFRe4Gfrh2Fz",
        "colab_type": "code",
        "colab": {}
      },
      "source": [
        "multiline_string = \"Pablo\n",
        "Ortiz\""
      ],
      "execution_count": 0,
      "outputs": []
    },
    {
      "cell_type": "code",
      "metadata": {
        "id": "9OqxsoRhh2F2",
        "colab_type": "code",
        "outputId": "dfccb8c6-52b7-4c4b-e31d-5e4f5a69ad33",
        "colab": {
          "base_uri": "https://localhost:8080/",
          "height": 34
        }
      },
      "source": [
        "multiline_string = \"\"\"Pablo\n",
        "Ortiz\"\"\"\n",
        "multiline_string"
      ],
      "execution_count": 0,
      "outputs": [
        {
          "output_type": "execute_result",
          "data": {
            "text/plain": [
              "'Pablo\\nOrtiz'"
            ]
          },
          "metadata": {
            "tags": []
          },
          "execution_count": 19
        }
      ]
    },
    {
      "cell_type": "code",
      "metadata": {
        "id": "KlwDm3dgJXFJ",
        "colab_type": "code",
        "outputId": "834a064b-e7c8-41ce-a0d4-a7775830147e",
        "colab": {
          "base_uri": "https://localhost:8080/",
          "height": 51
        }
      },
      "source": [
        "variable=\"berat\\nyasa\"\n",
        "print(variable)"
      ],
      "execution_count": 0,
      "outputs": [
        {
          "output_type": "stream",
          "text": [
            "berat\n",
            "yasa\n"
          ],
          "name": "stdout"
        }
      ]
    },
    {
      "cell_type": "code",
      "metadata": {
        "id": "_H_mPYv3h2F3",
        "colab_type": "code",
        "outputId": "10fbdadf-75a7-45df-f781-14b1248840cd",
        "colab": {
          "base_uri": "https://localhost:8080/",
          "height": 51
        }
      },
      "source": [
        "print(multiline_string)"
      ],
      "execution_count": 0,
      "outputs": [
        {
          "output_type": "stream",
          "text": [
            "Pablo\n",
            "Ortiz\n"
          ],
          "name": "stdout"
        }
      ]
    },
    {
      "cell_type": "code",
      "metadata": {
        "id": "pPU96pruh2F5",
        "colab_type": "code",
        "colab": {}
      },
      "source": [
        "type(multiline_string)"
      ],
      "execution_count": 0,
      "outputs": []
    },
    {
      "cell_type": "markdown",
      "metadata": {
        "id": "kMtqaTUDh2F8",
        "colab_type": "text"
      },
      "source": [
        "__Basic operations with strings__"
      ]
    },
    {
      "cell_type": "code",
      "metadata": {
        "id": "YgBTFLX6h2F9",
        "colab_type": "code",
        "outputId": "ef923d74-084a-483a-ed71-c3925eb3be25",
        "colab": {
          "base_uri": "https://localhost:8080/",
          "height": 34
        }
      },
      "source": [
        "name=\"berat yasa\"\n",
        "name"
      ],
      "execution_count": 0,
      "outputs": [
        {
          "output_type": "execute_result",
          "data": {
            "text/plain": [
              "'berat yasa'"
            ]
          },
          "metadata": {
            "tags": []
          },
          "execution_count": 26
        }
      ]
    },
    {
      "cell_type": "markdown",
      "metadata": {
        "id": "1gjBCNP1h2GB",
        "colab_type": "text"
      },
      "source": [
        "Substrings"
      ]
    },
    {
      "cell_type": "code",
      "metadata": {
        "id": "YiQLdcqaKZkf",
        "colab_type": "code",
        "outputId": "c6db0680-30e6-468b-81d6-d4903c2fdd43",
        "colab": {
          "base_uri": "https://localhost:8080/",
          "height": 34
        }
      },
      "source": [
        "name[::]"
      ],
      "execution_count": 0,
      "outputs": [
        {
          "output_type": "execute_result",
          "data": {
            "text/plain": [
              "'berat yasa'"
            ]
          },
          "metadata": {
            "tags": []
          },
          "execution_count": 34
        }
      ]
    },
    {
      "cell_type": "code",
      "metadata": {
        "id": "7JdxVXA2h2GC",
        "colab_type": "code",
        "colab": {}
      },
      "source": [
        "name[0]"
      ],
      "execution_count": 0,
      "outputs": []
    },
    {
      "cell_type": "code",
      "metadata": {
        "id": "utEKW0BDh2GF",
        "colab_type": "code",
        "colab": {}
      },
      "source": [
        "name[-2]"
      ],
      "execution_count": 0,
      "outputs": []
    },
    {
      "cell_type": "code",
      "metadata": {
        "id": "o5pZwkt8h2GH",
        "colab_type": "code",
        "colab": {}
      },
      "source": [
        "name[0:3]"
      ],
      "execution_count": 0,
      "outputs": []
    },
    {
      "cell_type": "code",
      "metadata": {
        "id": "_taB0DzKh2GL",
        "colab_type": "code",
        "colab": {}
      },
      "source": [
        "name[-3:]"
      ],
      "execution_count": 0,
      "outputs": []
    },
    {
      "cell_type": "code",
      "metadata": {
        "id": "TqFoYeCrh2GO",
        "colab_type": "code",
        "colab": {}
      },
      "source": [
        "name[:5]"
      ],
      "execution_count": 0,
      "outputs": []
    },
    {
      "cell_type": "markdown",
      "metadata": {
        "id": "FrVpFmrDh2GR",
        "colab_type": "text"
      },
      "source": [
        "Add strings"
      ]
    },
    {
      "cell_type": "code",
      "metadata": {
        "id": "7v-aiZcoh2GS",
        "colab_type": "code",
        "colab": {}
      },
      "source": [
        "string1 = 'Test '\n",
        "string2 = 'Add string'"
      ],
      "execution_count": 0,
      "outputs": []
    },
    {
      "cell_type": "code",
      "metadata": {
        "id": "hfdun0O9LJlF",
        "colab_type": "code",
        "colab": {}
      },
      "source": [
        "str1=\"berat\"\n",
        "str2=\"yasa\""
      ],
      "execution_count": 0,
      "outputs": []
    },
    {
      "cell_type": "code",
      "metadata": {
        "id": "mQOo1RngLig0",
        "colab_type": "code",
        "outputId": "3530e5de-ffe2-4834-f350-e2fb9606d785",
        "colab": {
          "base_uri": "https://localhost:8080/",
          "height": 34
        }
      },
      "source": [
        "str1+str2"
      ],
      "execution_count": 0,
      "outputs": [
        {
          "output_type": "execute_result",
          "data": {
            "text/plain": [
              "'beratyasa'"
            ]
          },
          "metadata": {
            "tags": []
          },
          "execution_count": 36
        }
      ]
    },
    {
      "cell_type": "code",
      "metadata": {
        "id": "HYCRljBDLmnP",
        "colab_type": "code",
        "outputId": "179301e4-b20e-47c7-a87f-56c7e66925c7",
        "colab": {
          "base_uri": "https://localhost:8080/",
          "height": 51
        }
      },
      "source": [
        "print(str1,\"\\n\",str2,sep=\"\")"
      ],
      "execution_count": 0,
      "outputs": [
        {
          "output_type": "stream",
          "text": [
            "berat\n",
            "yasa\n"
          ],
          "name": "stdout"
        }
      ]
    },
    {
      "cell_type": "code",
      "metadata": {
        "id": "-euOL_KqLmkW",
        "colab_type": "code",
        "outputId": "724efe6b-fe8b-4746-cedb-5d06fcf744a8",
        "colab": {
          "base_uri": "https://localhost:8080/",
          "height": 221
        }
      },
      "source": [
        "help(print)"
      ],
      "execution_count": 0,
      "outputs": [
        {
          "output_type": "stream",
          "text": [
            "Help on built-in function print in module builtins:\n",
            "\n",
            "print(...)\n",
            "    print(value, ..., sep=' ', end='\\n', file=sys.stdout, flush=False)\n",
            "    \n",
            "    Prints the values to a stream, or to sys.stdout by default.\n",
            "    Optional keyword arguments:\n",
            "    file:  a file-like object (stream); defaults to the current sys.stdout.\n",
            "    sep:   string inserted between values, default a space.\n",
            "    end:   string appended after the last value, default a newline.\n",
            "    flush: whether to forcibly flush the stream.\n",
            "\n"
          ],
          "name": "stdout"
        }
      ]
    },
    {
      "cell_type": "code",
      "metadata": {
        "id": "bHdfv9OALmdm",
        "colab_type": "code",
        "outputId": "c422e84d-eed7-4c3e-d46c-2b10e8311d2b",
        "colab": {
          "base_uri": "https://localhost:8080/",
          "height": 51
        }
      },
      "source": [
        "print(\"berat\")\n",
        "print(str2,end=\"asd\")"
      ],
      "execution_count": 0,
      "outputs": [
        {
          "output_type": "stream",
          "text": [
            "berat\n",
            "yasaasd"
          ],
          "name": "stdout"
        }
      ]
    },
    {
      "cell_type": "code",
      "metadata": {
        "id": "83MOCKP0LmQt",
        "colab_type": "code",
        "colab": {}
      },
      "source": [
        ""
      ],
      "execution_count": 0,
      "outputs": []
    },
    {
      "cell_type": "code",
      "metadata": {
        "id": "qpTvCMThh2GV",
        "colab_type": "code",
        "colab": {}
      },
      "source": [
        "string3 = string1 + string2"
      ],
      "execution_count": 0,
      "outputs": []
    },
    {
      "cell_type": "code",
      "metadata": {
        "id": "u-yeEwBVh2GY",
        "colab_type": "code",
        "outputId": "3a141acf-56e6-4540-9ea8-6b20da4c1984",
        "colab": {
          "base_uri": "https://localhost:8080/",
          "height": 34
        }
      },
      "source": [
        "str2 + ' another string'"
      ],
      "execution_count": 0,
      "outputs": [
        {
          "output_type": "execute_result",
          "data": {
            "text/plain": [
              "'yasa another string'"
            ]
          },
          "metadata": {
            "tags": []
          },
          "execution_count": 50
        }
      ]
    },
    {
      "cell_type": "code",
      "metadata": {
        "id": "W9rQipmoh2Gc",
        "colab_type": "code",
        "colab": {}
      },
      "source": [
        "string1 - string2"
      ],
      "execution_count": 0,
      "outputs": []
    },
    {
      "cell_type": "markdown",
      "metadata": {
        "id": "13EHshnzh2Ge",
        "colab_type": "text"
      },
      "source": [
        "__String methods__"
      ]
    },
    {
      "cell_type": "code",
      "metadata": {
        "id": "xwRkNLxOh2Ge",
        "colab_type": "code",
        "outputId": "faa8238b-d9b3-47fb-9052-b466983880c8",
        "colab": {
          "base_uri": "https://localhost:8080/",
          "height": 163
        }
      },
      "source": [
        "desc(str)"
      ],
      "execution_count": 0,
      "outputs": [
        {
          "output_type": "error",
          "ename": "NameError",
          "evalue": "ignored",
          "traceback": [
            "\u001b[0;31m---------------------------------------------------------------------------\u001b[0m",
            "\u001b[0;31mNameError\u001b[0m                                 Traceback (most recent call last)",
            "\u001b[0;32m<ipython-input-54-088b6072f5c7>\u001b[0m in \u001b[0;36m<module>\u001b[0;34m()\u001b[0m\n\u001b[0;32m----> 1\u001b[0;31m \u001b[0mdesc\u001b[0m\u001b[0;34m(\u001b[0m\u001b[0mstr\u001b[0m\u001b[0;34m)\u001b[0m\u001b[0;34m\u001b[0m\u001b[0;34m\u001b[0m\u001b[0m\n\u001b[0m",
            "\u001b[0;31mNameError\u001b[0m: name 'desc' is not defined"
          ]
        }
      ]
    },
    {
      "cell_type": "code",
      "metadata": {
        "id": "aqFjBEaHM-mc",
        "colab_type": "code",
        "outputId": "9c83c527-3d8c-477a-ee40-c9a5660e0076",
        "colab": {
          "base_uri": "https://localhost:8080/",
          "height": 163
        }
      },
      "source": [
        "help(capitalize)"
      ],
      "execution_count": 0,
      "outputs": [
        {
          "output_type": "error",
          "ename": "NameError",
          "evalue": "ignored",
          "traceback": [
            "\u001b[0;31m---------------------------------------------------------------------------\u001b[0m",
            "\u001b[0;31mNameError\u001b[0m                                 Traceback (most recent call last)",
            "\u001b[0;32m<ipython-input-53-8a39f543acb1>\u001b[0m in \u001b[0;36m<module>\u001b[0;34m()\u001b[0m\n\u001b[0;32m----> 1\u001b[0;31m \u001b[0mhelp\u001b[0m\u001b[0;34m(\u001b[0m\u001b[0mcapitalize\u001b[0m\u001b[0;34m)\u001b[0m\u001b[0;34m\u001b[0m\u001b[0;34m\u001b[0m\u001b[0m\n\u001b[0m",
            "\u001b[0;31mNameError\u001b[0m: name 'capitalize' is not defined"
          ]
        }
      ]
    },
    {
      "cell_type": "code",
      "metadata": {
        "id": "nWehZX7Vh2Gg",
        "colab_type": "code",
        "outputId": "9ef2fe27-e9ec-416c-ddc0-7d8f7cab46bd",
        "colab": {
          "base_uri": "https://localhost:8080/",
          "height": 34
        }
      },
      "source": [
        "name.capitalize()"
      ],
      "execution_count": 0,
      "outputs": [
        {
          "output_type": "execute_result",
          "data": {
            "text/plain": [
              "'Berat yasa'"
            ]
          },
          "metadata": {
            "tags": []
          },
          "execution_count": 58
        }
      ]
    },
    {
      "cell_type": "code",
      "metadata": {
        "id": "0OrMYw0Vh2Gj",
        "colab_type": "code",
        "outputId": "cf442ab3-c33c-46fe-a05c-a88770a65a8a",
        "colab": {
          "base_uri": "https://localhost:8080/",
          "height": 4063
        }
      },
      "source": [
        "help(int)"
      ],
      "execution_count": 0,
      "outputs": [
        {
          "output_type": "stream",
          "text": [
            "Help on class int in module builtins:\n",
            "\n",
            "class int(object)\n",
            " |  int(x=0) -> integer\n",
            " |  int(x, base=10) -> integer\n",
            " |  \n",
            " |  Convert a number or string to an integer, or return 0 if no arguments\n",
            " |  are given.  If x is a number, return x.__int__().  For floating point\n",
            " |  numbers, this truncates towards zero.\n",
            " |  \n",
            " |  If x is not a number or if base is given, then x must be a string,\n",
            " |  bytes, or bytearray instance representing an integer literal in the\n",
            " |  given base.  The literal can be preceded by '+' or '-' and be surrounded\n",
            " |  by whitespace.  The base defaults to 10.  Valid bases are 0 and 2-36.\n",
            " |  Base 0 means to interpret the base from the string as an integer literal.\n",
            " |  >>> int('0b100', base=0)\n",
            " |  4\n",
            " |  \n",
            " |  Methods defined here:\n",
            " |  \n",
            " |  __abs__(self, /)\n",
            " |      abs(self)\n",
            " |  \n",
            " |  __add__(self, value, /)\n",
            " |      Return self+value.\n",
            " |  \n",
            " |  __and__(self, value, /)\n",
            " |      Return self&value.\n",
            " |  \n",
            " |  __bool__(self, /)\n",
            " |      self != 0\n",
            " |  \n",
            " |  __ceil__(...)\n",
            " |      Ceiling of an Integral returns itself.\n",
            " |  \n",
            " |  __divmod__(self, value, /)\n",
            " |      Return divmod(self, value).\n",
            " |  \n",
            " |  __eq__(self, value, /)\n",
            " |      Return self==value.\n",
            " |  \n",
            " |  __float__(self, /)\n",
            " |      float(self)\n",
            " |  \n",
            " |  __floor__(...)\n",
            " |      Flooring an Integral returns itself.\n",
            " |  \n",
            " |  __floordiv__(self, value, /)\n",
            " |      Return self//value.\n",
            " |  \n",
            " |  __format__(...)\n",
            " |      default object formatter\n",
            " |  \n",
            " |  __ge__(self, value, /)\n",
            " |      Return self>=value.\n",
            " |  \n",
            " |  __getattribute__(self, name, /)\n",
            " |      Return getattr(self, name).\n",
            " |  \n",
            " |  __getnewargs__(...)\n",
            " |  \n",
            " |  __gt__(self, value, /)\n",
            " |      Return self>value.\n",
            " |  \n",
            " |  __hash__(self, /)\n",
            " |      Return hash(self).\n",
            " |  \n",
            " |  __index__(self, /)\n",
            " |      Return self converted to an integer, if self is suitable for use as an index into a list.\n",
            " |  \n",
            " |  __int__(self, /)\n",
            " |      int(self)\n",
            " |  \n",
            " |  __invert__(self, /)\n",
            " |      ~self\n",
            " |  \n",
            " |  __le__(self, value, /)\n",
            " |      Return self<=value.\n",
            " |  \n",
            " |  __lshift__(self, value, /)\n",
            " |      Return self<<value.\n",
            " |  \n",
            " |  __lt__(self, value, /)\n",
            " |      Return self<value.\n",
            " |  \n",
            " |  __mod__(self, value, /)\n",
            " |      Return self%value.\n",
            " |  \n",
            " |  __mul__(self, value, /)\n",
            " |      Return self*value.\n",
            " |  \n",
            " |  __ne__(self, value, /)\n",
            " |      Return self!=value.\n",
            " |  \n",
            " |  __neg__(self, /)\n",
            " |      -self\n",
            " |  \n",
            " |  __new__(*args, **kwargs) from builtins.type\n",
            " |      Create and return a new object.  See help(type) for accurate signature.\n",
            " |  \n",
            " |  __or__(self, value, /)\n",
            " |      Return self|value.\n",
            " |  \n",
            " |  __pos__(self, /)\n",
            " |      +self\n",
            " |  \n",
            " |  __pow__(self, value, mod=None, /)\n",
            " |      Return pow(self, value, mod).\n",
            " |  \n",
            " |  __radd__(self, value, /)\n",
            " |      Return value+self.\n",
            " |  \n",
            " |  __rand__(self, value, /)\n",
            " |      Return value&self.\n",
            " |  \n",
            " |  __rdivmod__(self, value, /)\n",
            " |      Return divmod(value, self).\n",
            " |  \n",
            " |  __repr__(self, /)\n",
            " |      Return repr(self).\n",
            " |  \n",
            " |  __rfloordiv__(self, value, /)\n",
            " |      Return value//self.\n",
            " |  \n",
            " |  __rlshift__(self, value, /)\n",
            " |      Return value<<self.\n",
            " |  \n",
            " |  __rmod__(self, value, /)\n",
            " |      Return value%self.\n",
            " |  \n",
            " |  __rmul__(self, value, /)\n",
            " |      Return value*self.\n",
            " |  \n",
            " |  __ror__(self, value, /)\n",
            " |      Return value|self.\n",
            " |  \n",
            " |  __round__(...)\n",
            " |      Rounding an Integral returns itself.\n",
            " |      Rounding with an ndigits argument also returns an integer.\n",
            " |  \n",
            " |  __rpow__(self, value, mod=None, /)\n",
            " |      Return pow(value, self, mod).\n",
            " |  \n",
            " |  __rrshift__(self, value, /)\n",
            " |      Return value>>self.\n",
            " |  \n",
            " |  __rshift__(self, value, /)\n",
            " |      Return self>>value.\n",
            " |  \n",
            " |  __rsub__(self, value, /)\n",
            " |      Return value-self.\n",
            " |  \n",
            " |  __rtruediv__(self, value, /)\n",
            " |      Return value/self.\n",
            " |  \n",
            " |  __rxor__(self, value, /)\n",
            " |      Return value^self.\n",
            " |  \n",
            " |  __sizeof__(...)\n",
            " |      Returns size in memory, in bytes\n",
            " |  \n",
            " |  __str__(self, /)\n",
            " |      Return str(self).\n",
            " |  \n",
            " |  __sub__(self, value, /)\n",
            " |      Return self-value.\n",
            " |  \n",
            " |  __truediv__(self, value, /)\n",
            " |      Return self/value.\n",
            " |  \n",
            " |  __trunc__(...)\n",
            " |      Truncating an Integral returns itself.\n",
            " |  \n",
            " |  __xor__(self, value, /)\n",
            " |      Return self^value.\n",
            " |  \n",
            " |  bit_length(...)\n",
            " |      int.bit_length() -> int\n",
            " |      \n",
            " |      Number of bits necessary to represent self in binary.\n",
            " |      >>> bin(37)\n",
            " |      '0b100101'\n",
            " |      >>> (37).bit_length()\n",
            " |      6\n",
            " |  \n",
            " |  conjugate(...)\n",
            " |      Returns self, the complex conjugate of any int.\n",
            " |  \n",
            " |  from_bytes(...) from builtins.type\n",
            " |      int.from_bytes(bytes, byteorder, *, signed=False) -> int\n",
            " |      \n",
            " |      Return the integer represented by the given array of bytes.\n",
            " |      \n",
            " |      The bytes argument must be a bytes-like object (e.g. bytes or bytearray).\n",
            " |      \n",
            " |      The byteorder argument determines the byte order used to represent the\n",
            " |      integer.  If byteorder is 'big', the most significant byte is at the\n",
            " |      beginning of the byte array.  If byteorder is 'little', the most\n",
            " |      significant byte is at the end of the byte array.  To request the native\n",
            " |      byte order of the host system, use `sys.byteorder' as the byte order value.\n",
            " |      \n",
            " |      The signed keyword-only argument indicates whether two's complement is\n",
            " |      used to represent the integer.\n",
            " |  \n",
            " |  to_bytes(...)\n",
            " |      int.to_bytes(length, byteorder, *, signed=False) -> bytes\n",
            " |      \n",
            " |      Return an array of bytes representing an integer.\n",
            " |      \n",
            " |      The integer is represented using length bytes.  An OverflowError is\n",
            " |      raised if the integer is not representable with the given number of\n",
            " |      bytes.\n",
            " |      \n",
            " |      The byteorder argument determines the byte order used to represent the\n",
            " |      integer.  If byteorder is 'big', the most significant byte is at the\n",
            " |      beginning of the byte array.  If byteorder is 'little', the most\n",
            " |      significant byte is at the end of the byte array.  To request the native\n",
            " |      byte order of the host system, use `sys.byteorder' as the byte order value.\n",
            " |      \n",
            " |      The signed keyword-only argument determines whether two's complement is\n",
            " |      used to represent the integer.  If signed is False and a negative integer\n",
            " |      is given, an OverflowError is raised.\n",
            " |  \n",
            " |  ----------------------------------------------------------------------\n",
            " |  Data descriptors defined here:\n",
            " |  \n",
            " |  denominator\n",
            " |      the denominator of a rational number in lowest terms\n",
            " |  \n",
            " |  imag\n",
            " |      the imaginary part of a complex number\n",
            " |  \n",
            " |  numerator\n",
            " |      the numerator of a rational number in lowest terms\n",
            " |  \n",
            " |  real\n",
            " |      the real part of a complex number\n",
            "\n"
          ],
          "name": "stdout"
        }
      ]
    },
    {
      "cell_type": "code",
      "metadata": {
        "id": "mFR5lLTUh2Gl",
        "colab_type": "code",
        "outputId": "740cb374-272d-4ee6-c215-fc512f893f2d",
        "colab": {
          "base_uri": "https://localhost:8080/",
          "height": 34
        }
      },
      "source": [
        "name.lower()"
      ],
      "execution_count": 0,
      "outputs": [
        {
          "output_type": "execute_result",
          "data": {
            "text/plain": [
              "'berat yasa'"
            ]
          },
          "metadata": {
            "tags": []
          },
          "execution_count": 61
        }
      ]
    },
    {
      "cell_type": "code",
      "metadata": {
        "id": "fQ_NlvJwh2Gr",
        "colab_type": "code",
        "outputId": "164cb1bf-68e9-44c9-d014-29973abbfbcf",
        "colab": {
          "base_uri": "https://localhost:8080/",
          "height": 34
        }
      },
      "source": [
        "name"
      ],
      "execution_count": 0,
      "outputs": [
        {
          "output_type": "execute_result",
          "data": {
            "text/plain": [
              "'berat yasa'"
            ]
          },
          "metadata": {
            "tags": []
          },
          "execution_count": 62
        }
      ]
    },
    {
      "cell_type": "code",
      "metadata": {
        "id": "IJjWhtn5h2Gt",
        "colab_type": "code",
        "colab": {}
      },
      "source": [
        "name = name.replace(' ', '_')"
      ],
      "execution_count": 0,
      "outputs": []
    },
    {
      "cell_type": "code",
      "metadata": {
        "id": "XY_H00ZMh2Gw",
        "colab_type": "code",
        "colab": {}
      },
      "source": [
        "name"
      ],
      "execution_count": 0,
      "outputs": []
    },
    {
      "cell_type": "code",
      "metadata": {
        "id": "vE6KtVdYQC68",
        "colab_type": "code",
        "outputId": "b3175d2f-df7a-4d9e-bf74-c4dfc23afe7a",
        "colab": {
          "base_uri": "https://localhost:8080/",
          "height": 170
        }
      },
      "source": [
        "help(str.replace)"
      ],
      "execution_count": 0,
      "outputs": [
        {
          "output_type": "stream",
          "text": [
            "Help on method_descriptor:\n",
            "\n",
            "replace(...)\n",
            "    S.replace(old, new[, count]) -> str\n",
            "    \n",
            "    Return a copy of S with all occurrences of substring\n",
            "    old replaced by new.  If the optional argument count is\n",
            "    given, only the first count occurrences are replaced.\n",
            "\n"
          ],
          "name": "stdout"
        }
      ]
    },
    {
      "cell_type": "code",
      "metadata": {
        "id": "PxpPoy3AQgTd",
        "colab_type": "code",
        "outputId": "24446193-e9e8-42aa-e4bd-d35831bd1765",
        "colab": {
          "base_uri": "https://localhost:8080/",
          "height": 34
        }
      },
      "source": [
        "name.replace(\" \",\"3\")"
      ],
      "execution_count": 0,
      "outputs": [
        {
          "output_type": "execute_result",
          "data": {
            "text/plain": [
              "'berat3yasa'"
            ]
          },
          "metadata": {
            "tags": []
          },
          "execution_count": 65
        }
      ]
    },
    {
      "cell_type": "code",
      "metadata": {
        "id": "Jwx3rrw4QoYH",
        "colab_type": "code",
        "outputId": "c0a9eee8-2c3b-477a-c50c-1da8a669ebb0",
        "colab": {
          "base_uri": "https://localhost:8080/",
          "height": 34
        }
      },
      "source": [
        "name"
      ],
      "execution_count": 0,
      "outputs": [
        {
          "output_type": "execute_result",
          "data": {
            "text/plain": [
              "'berat yasa'"
            ]
          },
          "metadata": {
            "tags": []
          },
          "execution_count": 66
        }
      ]
    },
    {
      "cell_type": "code",
      "metadata": {
        "id": "L8oU8YYvQ64e",
        "colab_type": "code",
        "colab": {}
      },
      "source": [
        "name,surname=name.split()"
      ],
      "execution_count": 0,
      "outputs": []
    },
    {
      "cell_type": "code",
      "metadata": {
        "id": "ODaMTepgh2G0",
        "colab_type": "code",
        "colab": {}
      },
      "source": [
        "first_name, last_name = name.split('_')"
      ],
      "execution_count": 0,
      "outputs": []
    },
    {
      "cell_type": "code",
      "metadata": {
        "id": "Ek1eV5iPRLBd",
        "colab_type": "code",
        "outputId": "ecff0a21-5eb1-4ed4-8b00-eb4cd0ba0e8f",
        "colab": {
          "base_uri": "https://localhost:8080/",
          "height": 34
        }
      },
      "source": [
        "str1=\"berat yasa\"\n",
        "str1"
      ],
      "execution_count": 0,
      "outputs": [
        {
          "output_type": "execute_result",
          "data": {
            "text/plain": [
              "'berat yasa'"
            ]
          },
          "metadata": {
            "tags": []
          },
          "execution_count": 78
        }
      ]
    },
    {
      "cell_type": "code",
      "metadata": {
        "id": "3McFVCOsRrzL",
        "colab_type": "code",
        "outputId": "cbcc4b6f-022b-40c9-943e-ebd0636832bd",
        "colab": {
          "base_uri": "https://localhost:8080/",
          "height": 34
        }
      },
      "source": [
        "str1.split(\" \")\n",
        "str1.split(\"t\")"
      ],
      "execution_count": 0,
      "outputs": [
        {
          "output_type": "execute_result",
          "data": {
            "text/plain": [
              "['bera', ' yasa']"
            ]
          },
          "metadata": {
            "tags": []
          },
          "execution_count": 83
        }
      ]
    },
    {
      "cell_type": "code",
      "metadata": {
        "id": "hTh2NLoOR747",
        "colab_type": "code",
        "colab": {}
      },
      "source": [
        "name,surname=str1.split()"
      ],
      "execution_count": 0,
      "outputs": []
    },
    {
      "cell_type": "code",
      "metadata": {
        "id": "0oMibkn3SAfL",
        "colab_type": "code",
        "outputId": "541e8520-374d-47ea-e1b2-1540114ed4e9",
        "colab": {
          "base_uri": "https://localhost:8080/",
          "height": 34
        }
      },
      "source": [
        "name"
      ],
      "execution_count": 0,
      "outputs": [
        {
          "output_type": "execute_result",
          "data": {
            "text/plain": [
              "'berat'"
            ]
          },
          "metadata": {
            "tags": []
          },
          "execution_count": 85
        }
      ]
    },
    {
      "cell_type": "code",
      "metadata": {
        "id": "e5e4E8Yxh2G1",
        "colab_type": "code",
        "outputId": "df382dbc-b7f5-4396-ddc2-b3c4af20b35e",
        "colab": {
          "base_uri": "https://localhost:8080/",
          "height": 34
        }
      },
      "source": [
        "surname"
      ],
      "execution_count": 0,
      "outputs": [
        {
          "output_type": "execute_result",
          "data": {
            "text/plain": [
              "'yasa'"
            ]
          },
          "metadata": {
            "tags": []
          },
          "execution_count": 87
        }
      ]
    },
    {
      "cell_type": "code",
      "metadata": {
        "id": "0YmrWQyIh2G4",
        "colab_type": "code",
        "colab": {}
      },
      "source": [
        "last_name"
      ],
      "execution_count": 0,
      "outputs": []
    },
    {
      "cell_type": "code",
      "metadata": {
        "id": "701u32m7h2G_",
        "colab_type": "code",
        "colab": {}
      },
      "source": [
        "test = 'AAA BB AA DDD GG A'"
      ],
      "execution_count": 0,
      "outputs": []
    },
    {
      "cell_type": "code",
      "metadata": {
        "id": "6XKYfgrcSJil",
        "colab_type": "code",
        "colab": {}
      },
      "source": [
        "help(str)"
      ],
      "execution_count": 0,
      "outputs": []
    },
    {
      "cell_type": "code",
      "metadata": {
        "id": "0EhMUeaxh2HF",
        "colab_type": "code",
        "outputId": "8c632692-6777-4337-97b9-11d5afe2d777",
        "colab": {
          "base_uri": "https://localhost:8080/",
          "height": 34
        }
      },
      "source": [
        "test.count('A')"
      ],
      "execution_count": 0,
      "outputs": [
        {
          "output_type": "execute_result",
          "data": {
            "text/plain": [
              "6"
            ]
          },
          "metadata": {
            "tags": []
          },
          "execution_count": 91
        }
      ]
    },
    {
      "cell_type": "code",
      "metadata": {
        "id": "vApPelovh2HI",
        "colab_type": "code",
        "outputId": "064f58ce-f6d4-49e4-bb13-5d117e28c4ea",
        "colab": {
          "base_uri": "https://localhost:8080/",
          "height": 34
        }
      },
      "source": [
        "test.count('AA')"
      ],
      "execution_count": 0,
      "outputs": [
        {
          "output_type": "execute_result",
          "data": {
            "text/plain": [
              "2"
            ]
          },
          "metadata": {
            "tags": []
          },
          "execution_count": 93
        }
      ]
    },
    {
      "cell_type": "code",
      "metadata": {
        "id": "f54j_XOdh2HL",
        "colab_type": "code",
        "outputId": "8ba37522-a845-4810-aa7a-492a7d386268",
        "colab": {
          "base_uri": "https://localhost:8080/",
          "height": 34
        }
      },
      "source": [
        "test.find('B')"
      ],
      "execution_count": 0,
      "outputs": [
        {
          "output_type": "execute_result",
          "data": {
            "text/plain": [
              "4"
            ]
          },
          "metadata": {
            "tags": []
          },
          "execution_count": 94
        }
      ]
    },
    {
      "cell_type": "code",
      "metadata": {
        "id": "FFY0u2w8h2HO",
        "colab_type": "code",
        "outputId": "86e38b12-f1fa-403f-cf37-a7db7f686fa5",
        "colab": {
          "base_uri": "https://localhost:8080/",
          "height": 34
        }
      },
      "source": [
        "test[4]"
      ],
      "execution_count": 0,
      "outputs": [
        {
          "output_type": "execute_result",
          "data": {
            "text/plain": [
              "'B'"
            ]
          },
          "metadata": {
            "tags": []
          },
          "execution_count": 95
        }
      ]
    },
    {
      "cell_type": "code",
      "metadata": {
        "id": "wxNDkuRGh2HR",
        "colab_type": "code",
        "outputId": "ac4f90b8-279c-4d5c-d7df-1486569493f7",
        "colab": {
          "base_uri": "https://localhost:8080/",
          "height": 34
        }
      },
      "source": [
        "test.isnumeric()"
      ],
      "execution_count": 0,
      "outputs": [
        {
          "output_type": "execute_result",
          "data": {
            "text/plain": [
              "False"
            ]
          },
          "metadata": {
            "tags": []
          },
          "execution_count": 96
        }
      ]
    },
    {
      "cell_type": "code",
      "metadata": {
        "id": "qyauV0aph2HW",
        "colab_type": "code",
        "outputId": "b6ffb781-36a1-4aff-a666-a4434bafe750",
        "colab": {
          "base_uri": "https://localhost:8080/",
          "height": 34
        }
      },
      "source": [
        "'1234'.isnumeric()"
      ],
      "execution_count": 0,
      "outputs": [
        {
          "output_type": "execute_result",
          "data": {
            "text/plain": [
              "True"
            ]
          },
          "metadata": {
            "tags": []
          },
          "execution_count": 97
        }
      ]
    },
    {
      "cell_type": "code",
      "metadata": {
        "id": "Z8MVE1J8h2HY",
        "colab_type": "code",
        "outputId": "07c19c2b-aa16-4bcd-a824-1d889b71d824",
        "colab": {
          "base_uri": "https://localhost:8080/",
          "height": 34
        }
      },
      "source": [
        "len(test)"
      ],
      "execution_count": 0,
      "outputs": [
        {
          "output_type": "execute_result",
          "data": {
            "text/plain": [
              "18"
            ]
          },
          "metadata": {
            "tags": []
          },
          "execution_count": 98
        }
      ]
    },
    {
      "cell_type": "code",
      "metadata": {
        "id": "cQ8cO2Gsh2Hb",
        "colab_type": "code",
        "outputId": "ac211e91-4fc7-46ba-aa2f-7a41e64f65bc",
        "colab": {
          "base_uri": "https://localhost:8080/",
          "height": 299
        }
      },
      "source": [
        "from unidecode import unidecode"
      ],
      "execution_count": 0,
      "outputs": [
        {
          "output_type": "error",
          "ename": "ModuleNotFoundError",
          "evalue": "ignored",
          "traceback": [
            "\u001b[0;31m---------------------------------------------------------------------------\u001b[0m",
            "\u001b[0;31mModuleNotFoundError\u001b[0m                       Traceback (most recent call last)",
            "\u001b[0;32m<ipython-input-99-f4b21373cdf6>\u001b[0m in \u001b[0;36m<module>\u001b[0;34m()\u001b[0m\n\u001b[0;32m----> 1\u001b[0;31m \u001b[0;32mfrom\u001b[0m \u001b[0munidecode\u001b[0m \u001b[0;32mimport\u001b[0m \u001b[0munidecode\u001b[0m\u001b[0;34m\u001b[0m\u001b[0;34m\u001b[0m\u001b[0m\n\u001b[0m",
            "\u001b[0;31mModuleNotFoundError\u001b[0m: No module named 'unidecode'",
            "",
            "\u001b[0;31m---------------------------------------------------------------------------\u001b[0;32m\nNOTE: If your import is failing due to a missing package, you can\nmanually install dependencies using either !pip or !apt.\n\nTo view examples of installing some common dependencies, click the\n\"Open Examples\" button below.\n\u001b[0;31m---------------------------------------------------------------------------\u001b[0m\n"
          ]
        }
      ]
    },
    {
      "cell_type": "code",
      "metadata": {
        "id": "sCbyFekQh2He",
        "colab_type": "code",
        "colab": {}
      },
      "source": [
        "spanish_name = 'José España'"
      ],
      "execution_count": 0,
      "outputs": []
    },
    {
      "cell_type": "code",
      "metadata": {
        "id": "8K53Z1nth2Hg",
        "colab_type": "code",
        "colab": {}
      },
      "source": [
        "unidecode(spanish_name)"
      ],
      "execution_count": 0,
      "outputs": []
    },
    {
      "cell_type": "markdown",
      "metadata": {
        "id": "gRNjQbqth2Hi",
        "colab_type": "text"
      },
      "source": [
        "__Strings are immutable!__"
      ]
    },
    {
      "cell_type": "code",
      "metadata": {
        "id": "kgi7yWFih2Hk",
        "colab_type": "code",
        "outputId": "9583840e-07d6-4161-9f19-4333eacf4719",
        "colab": {
          "base_uri": "https://localhost:8080/",
          "height": 163
        }
      },
      "source": [
        "spanish_name[1] = 'a'"
      ],
      "execution_count": 0,
      "outputs": [
        {
          "output_type": "error",
          "ename": "TypeError",
          "evalue": "ignored",
          "traceback": [
            "\u001b[0;31m---------------------------------------------------------------------------\u001b[0m",
            "\u001b[0;31mTypeError\u001b[0m                                 Traceback (most recent call last)",
            "\u001b[0;32m<ipython-input-105-91aca3c9439a>\u001b[0m in \u001b[0;36m<module>\u001b[0;34m()\u001b[0m\n\u001b[0;32m----> 1\u001b[0;31m \u001b[0mspanish_name\u001b[0m\u001b[0;34m[\u001b[0m\u001b[0;36m1\u001b[0m\u001b[0;34m]\u001b[0m \u001b[0;34m=\u001b[0m \u001b[0;34m'a'\u001b[0m\u001b[0;34m\u001b[0m\u001b[0;34m\u001b[0m\u001b[0m\n\u001b[0m",
            "\u001b[0;31mTypeError\u001b[0m: 'str' object does not support item assignment"
          ]
        }
      ]
    },
    {
      "cell_type": "markdown",
      "metadata": {
        "id": "KBwwWUGYh2Ho",
        "colab_type": "text"
      },
      "source": [
        "### Boolean Types"
      ]
    },
    {
      "cell_type": "code",
      "metadata": {
        "id": "-B35EpHah2Hp",
        "colab_type": "code",
        "colab": {}
      },
      "source": [
        "green = True\n",
        "red = False\n",
        "yellow = False"
      ],
      "execution_count": 0,
      "outputs": []
    },
    {
      "cell_type": "code",
      "metadata": {
        "id": "BhuvUOyYh2Ht",
        "colab_type": "code",
        "outputId": "bcac0e82-6ed0-487e-ade4-4486448fa9f9",
        "colab": {
          "base_uri": "https://localhost:8080/",
          "height": 34
        }
      },
      "source": [
        "type(green)"
      ],
      "execution_count": 0,
      "outputs": [
        {
          "output_type": "execute_result",
          "data": {
            "text/plain": [
              "bool"
            ]
          },
          "metadata": {
            "tags": []
          },
          "execution_count": 108
        }
      ]
    },
    {
      "cell_type": "markdown",
      "metadata": {
        "id": "XWucwfOJh2Hz",
        "colab_type": "text"
      },
      "source": [
        "__Operations with Booleans__"
      ]
    },
    {
      "cell_type": "code",
      "metadata": {
        "id": "-iH3Hc3Ch2H1",
        "colab_type": "code",
        "outputId": "914765d3-1390-434d-f773-b4b8298b62ac",
        "colab": {
          "base_uri": "https://localhost:8080/",
          "height": 34
        }
      },
      "source": [
        "green and red"
      ],
      "execution_count": 0,
      "outputs": [
        {
          "output_type": "execute_result",
          "data": {
            "text/plain": [
              "False"
            ]
          },
          "metadata": {
            "tags": []
          },
          "execution_count": 109
        }
      ]
    },
    {
      "cell_type": "code",
      "metadata": {
        "id": "ah5cpfsGh2H6",
        "colab_type": "code",
        "outputId": "fed90c9b-36ee-4c4b-a733-aac4d188724b",
        "colab": {
          "base_uri": "https://localhost:8080/",
          "height": 34
        }
      },
      "source": [
        "green or red"
      ],
      "execution_count": 0,
      "outputs": [
        {
          "output_type": "execute_result",
          "data": {
            "text/plain": [
              "True"
            ]
          },
          "metadata": {
            "tags": []
          },
          "execution_count": 110
        }
      ]
    },
    {
      "cell_type": "code",
      "metadata": {
        "id": "skaigXu0h2IB",
        "colab_type": "code",
        "outputId": "4b1f7871-37b0-4b6d-c39b-5539ff138c92",
        "colab": {
          "base_uri": "https://localhost:8080/",
          "height": 34
        }
      },
      "source": [
        "green & red"
      ],
      "execution_count": 0,
      "outputs": [
        {
          "output_type": "execute_result",
          "data": {
            "text/plain": [
              "False"
            ]
          },
          "metadata": {
            "tags": []
          },
          "execution_count": 111
        }
      ]
    },
    {
      "cell_type": "code",
      "metadata": {
        "id": "VV32mWEAh2IG",
        "colab_type": "code",
        "outputId": "02e164e2-50c5-429b-e8ef-c8769308fa27",
        "colab": {
          "base_uri": "https://localhost:8080/",
          "height": 34
        }
      },
      "source": [
        "green | red"
      ],
      "execution_count": 0,
      "outputs": [
        {
          "output_type": "execute_result",
          "data": {
            "text/plain": [
              "True"
            ]
          },
          "metadata": {
            "tags": []
          },
          "execution_count": 112
        }
      ]
    },
    {
      "cell_type": "markdown",
      "metadata": {
        "id": "wJGj9ZOOh2IK",
        "colab_type": "text"
      },
      "source": [
        "XOR: Exclusive OR"
      ]
    },
    {
      "cell_type": "code",
      "metadata": {
        "id": "hh8600dkh2IM",
        "colab_type": "code",
        "colab": {}
      },
      "source": [
        "green ^ red"
      ],
      "execution_count": 0,
      "outputs": []
    },
    {
      "cell_type": "code",
      "metadata": {
        "id": "qVuFNy2Oh2IS",
        "colab_type": "code",
        "outputId": "bc94f4c8-e6cc-477a-ee71-9ecaec669ec4",
        "colab": {
          "base_uri": "https://localhost:8080/",
          "height": 34
        }
      },
      "source": [
        "True ^ True "
      ],
      "execution_count": 0,
      "outputs": [
        {
          "output_type": "execute_result",
          "data": {
            "text/plain": [
              "False"
            ]
          },
          "metadata": {
            "tags": []
          },
          "execution_count": 114
        }
      ]
    },
    {
      "cell_type": "code",
      "metadata": {
        "id": "JnoeIc9hh2IY",
        "colab_type": "code",
        "outputId": "5e000f01-767d-4eed-f3cf-d59d160aaf42",
        "colab": {
          "base_uri": "https://localhost:8080/",
          "height": 34
        }
      },
      "source": [
        "True ^ False"
      ],
      "execution_count": 0,
      "outputs": [
        {
          "output_type": "execute_result",
          "data": {
            "text/plain": [
              "True"
            ]
          },
          "metadata": {
            "tags": []
          },
          "execution_count": 115
        }
      ]
    },
    {
      "cell_type": "code",
      "metadata": {
        "id": "Fp4R8YVvh2Ie",
        "colab_type": "code",
        "colab": {}
      },
      "source": [
        "True ^ True ^ True "
      ],
      "execution_count": 0,
      "outputs": []
    },
    {
      "cell_type": "code",
      "metadata": {
        "id": "1ptfKd61h2Il",
        "colab_type": "code",
        "colab": {}
      },
      "source": [
        "not green"
      ],
      "execution_count": 0,
      "outputs": []
    },
    {
      "cell_type": "markdown",
      "metadata": {
        "id": "V17KXZRmh2Ir",
        "colab_type": "text"
      },
      "source": [
        "XNOR: Exclusive not or"
      ]
    },
    {
      "cell_type": "code",
      "metadata": {
        "id": "CokVOTDoh2It",
        "colab_type": "code",
        "colab": {}
      },
      "source": [
        "not(True ^ False)"
      ],
      "execution_count": 0,
      "outputs": []
    },
    {
      "cell_type": "code",
      "metadata": {
        "id": "irqiG7Fah2Iz",
        "colab_type": "code",
        "colab": {}
      },
      "source": [
        "not(True ^ True)"
      ],
      "execution_count": 0,
      "outputs": []
    },
    {
      "cell_type": "markdown",
      "metadata": {
        "id": "4gFdaeT4h2I4",
        "colab_type": "text"
      },
      "source": [
        "## Comparisons"
      ]
    },
    {
      "cell_type": "code",
      "metadata": {
        "id": "twvFHIQGh2I5",
        "colab_type": "code",
        "colab": {}
      },
      "source": [
        "x = 8 \n",
        "y = 4"
      ],
      "execution_count": 0,
      "outputs": []
    },
    {
      "cell_type": "markdown",
      "metadata": {
        "id": "4u0HdyBTh2JS",
        "colab_type": "text"
      },
      "source": [
        "Equal"
      ]
    },
    {
      "cell_type": "code",
      "metadata": {
        "id": "Q4ueu58sh2JT",
        "colab_type": "code",
        "outputId": "4ee674a8-b261-4eb2-8841-3625c37e27a2",
        "colab": {
          "base_uri": "https://localhost:8080/",
          "height": 34
        }
      },
      "source": [
        "x == y"
      ],
      "execution_count": 0,
      "outputs": [
        {
          "output_type": "execute_result",
          "data": {
            "text/plain": [
              "False"
            ]
          },
          "metadata": {
            "tags": []
          },
          "execution_count": 117
        }
      ]
    },
    {
      "cell_type": "code",
      "metadata": {
        "id": "KdHXJ91mh2JV",
        "colab_type": "code",
        "colab": {}
      },
      "source": [
        "name = 'Pablo Ortiz'"
      ],
      "execution_count": 0,
      "outputs": []
    },
    {
      "cell_type": "code",
      "metadata": {
        "id": "P4_1KH8Ph2JX",
        "colab_type": "code",
        "outputId": "09cd612b-cbc4-4398-8a40-ba16f0d5fc54",
        "colab": {
          "base_uri": "https://localhost:8080/",
          "height": 34
        }
      },
      "source": [
        "name == 'Pablo Martinez'"
      ],
      "execution_count": 0,
      "outputs": [
        {
          "output_type": "execute_result",
          "data": {
            "text/plain": [
              "False"
            ]
          },
          "metadata": {
            "tags": []
          },
          "execution_count": 120
        }
      ]
    },
    {
      "cell_type": "markdown",
      "metadata": {
        "id": "k0CmPINeh2JZ",
        "colab_type": "text"
      },
      "source": [
        "Not Equal"
      ]
    },
    {
      "cell_type": "code",
      "metadata": {
        "id": "xBOrDGUgh2JZ",
        "colab_type": "code",
        "outputId": "7729c727-e2bc-41f7-8d36-3907334eb1fc",
        "colab": {
          "base_uri": "https://localhost:8080/",
          "height": 34
        }
      },
      "source": [
        "x != y"
      ],
      "execution_count": 0,
      "outputs": [
        {
          "output_type": "execute_result",
          "data": {
            "text/plain": [
              "True"
            ]
          },
          "metadata": {
            "tags": []
          },
          "execution_count": 121
        }
      ]
    },
    {
      "cell_type": "code",
      "metadata": {
        "id": "dTU4BsRHh2Jc",
        "colab_type": "code",
        "outputId": "c524474e-b769-49cb-a5be-52996c459765",
        "colab": {
          "base_uri": "https://localhost:8080/",
          "height": 34
        }
      },
      "source": [
        "x != 8"
      ],
      "execution_count": 0,
      "outputs": [
        {
          "output_type": "execute_result",
          "data": {
            "text/plain": [
              "False"
            ]
          },
          "metadata": {
            "tags": []
          },
          "execution_count": 122
        }
      ]
    },
    {
      "cell_type": "markdown",
      "metadata": {
        "id": "lG0oDOe5h2Jh",
        "colab_type": "text"
      },
      "source": [
        "**VERY CAREFUL COMPARING FLOATS!**\n",
        "\n",
        "Use round!"
      ]
    },
    {
      "cell_type": "code",
      "metadata": {
        "id": "_B4S-p2EVcdO",
        "colab_type": "code",
        "outputId": "0fc56922-bdeb-4bef-a8a7-92653e6f0865",
        "colab": {
          "base_uri": "https://localhost:8080/",
          "height": 170
        }
      },
      "source": [
        "help(round)"
      ],
      "execution_count": 0,
      "outputs": [
        {
          "output_type": "stream",
          "text": [
            "Help on built-in function round in module builtins:\n",
            "\n",
            "round(...)\n",
            "    round(number[, ndigits]) -> number\n",
            "    \n",
            "    Round a number to a given precision in decimal digits (default 0 digits).\n",
            "    This returns an int when called with one argument, otherwise the\n",
            "    same type as the number. ndigits may be negative.\n",
            "\n"
          ],
          "name": "stdout"
        }
      ]
    },
    {
      "cell_type": "code",
      "metadata": {
        "id": "2F-ygkmEVkW8",
        "colab_type": "code",
        "colab": {}
      },
      "source": [
        "int=12.3452"
      ],
      "execution_count": 0,
      "outputs": []
    },
    {
      "cell_type": "code",
      "metadata": {
        "id": "2pqt7ZPIVoG2",
        "colab_type": "code",
        "outputId": "b3cf90e1-8910-4ca0-b90a-05c2d1d7b88c",
        "colab": {
          "base_uri": "https://localhost:8080/",
          "height": 34
        }
      },
      "source": [
        "round(int,2)"
      ],
      "execution_count": 0,
      "outputs": [
        {
          "output_type": "execute_result",
          "data": {
            "text/plain": [
              "12.35"
            ]
          },
          "metadata": {
            "tags": []
          },
          "execution_count": 127
        }
      ]
    },
    {
      "cell_type": "code",
      "metadata": {
        "id": "KpO0oH9Zh2Jh",
        "colab_type": "code",
        "outputId": "9e057af2-c11f-4b01-938d-3a7657ba8cb0",
        "colab": {
          "base_uri": "https://localhost:8080/",
          "height": 34
        }
      },
      "source": [
        "(0.1 + 0.1 + 0.1) == 0.3"
      ],
      "execution_count": 0,
      "outputs": [
        {
          "output_type": "execute_result",
          "data": {
            "text/plain": [
              "False"
            ]
          },
          "metadata": {
            "tags": []
          },
          "execution_count": 123
        }
      ]
    },
    {
      "cell_type": "code",
      "metadata": {
        "id": "8rg3Sx3Zh2Jj",
        "colab_type": "code",
        "colab": {}
      },
      "source": [
        "'{0:.25f}'.format(0.1)"
      ],
      "execution_count": 0,
      "outputs": []
    },
    {
      "cell_type": "code",
      "metadata": {
        "id": "r4lZKHGNh2Jq",
        "colab_type": "code",
        "colab": {}
      },
      "source": [
        "'{0:.25f}'.format(0.1 + 0.1 + 0.1)"
      ],
      "execution_count": 0,
      "outputs": []
    },
    {
      "cell_type": "code",
      "metadata": {
        "id": "srRdSrAah2Js",
        "colab_type": "code",
        "colab": {}
      },
      "source": [
        "round(3.14159, 4)"
      ],
      "execution_count": 0,
      "outputs": []
    },
    {
      "cell_type": "code",
      "metadata": {
        "id": "sF40WCZyh2Jv",
        "colab_type": "code",
        "outputId": "d093b297-8b63-4d81-82c0-17ca047cc391",
        "colab": {
          "base_uri": "https://localhost:8080/",
          "height": 34
        }
      },
      "source": [
        "round(0.1 + 0.1 + 0.1, 2) == round(0.3, 2)"
      ],
      "execution_count": 0,
      "outputs": [
        {
          "output_type": "execute_result",
          "data": {
            "text/plain": [
              "True"
            ]
          },
          "metadata": {
            "tags": []
          },
          "execution_count": 128
        }
      ]
    },
    {
      "cell_type": "markdown",
      "metadata": {
        "id": "HmnPvUrDh2Jx",
        "colab_type": "text"
      },
      "source": [
        "Higher than / Higher or equal than"
      ]
    },
    {
      "cell_type": "code",
      "metadata": {
        "id": "HK1Pqjteh2Jx",
        "colab_type": "code",
        "colab": {}
      },
      "source": [
        "x"
      ],
      "execution_count": 0,
      "outputs": []
    },
    {
      "cell_type": "code",
      "metadata": {
        "id": "V2PMTAYph2Jy",
        "colab_type": "code",
        "colab": {}
      },
      "source": [
        "y"
      ],
      "execution_count": 0,
      "outputs": []
    },
    {
      "cell_type": "code",
      "metadata": {
        "id": "eaG4WjlNh2Jz",
        "colab_type": "code",
        "colab": {}
      },
      "source": [
        "x > y"
      ],
      "execution_count": 0,
      "outputs": []
    },
    {
      "cell_type": "code",
      "metadata": {
        "id": "33raVu5Th2J5",
        "colab_type": "code",
        "colab": {}
      },
      "source": [
        "x > 8"
      ],
      "execution_count": 0,
      "outputs": []
    },
    {
      "cell_type": "code",
      "metadata": {
        "id": "ctYOpUDHh2J8",
        "colab_type": "code",
        "colab": {}
      },
      "source": [
        "x >= 8"
      ],
      "execution_count": 0,
      "outputs": []
    },
    {
      "cell_type": "markdown",
      "metadata": {
        "id": "J2X6A9dch2J-",
        "colab_type": "text"
      },
      "source": [
        "Lower / Lower or equal"
      ]
    },
    {
      "cell_type": "code",
      "metadata": {
        "id": "H5icsoIAh2J_",
        "colab_type": "code",
        "outputId": "df84cbbb-772d-4748-b029-12e70026b392",
        "colab": {
          "base_uri": "https://localhost:8080/",
          "height": 34
        }
      },
      "source": [
        "y < 7"
      ],
      "execution_count": 0,
      "outputs": [
        {
          "output_type": "execute_result",
          "data": {
            "text/plain": [
              "True"
            ]
          },
          "metadata": {
            "tags": []
          },
          "execution_count": 129
        }
      ]
    },
    {
      "cell_type": "code",
      "metadata": {
        "id": "prRtTGrIh2KB",
        "colab_type": "code",
        "colab": {}
      },
      "source": [
        "result = y <= 4"
      ],
      "execution_count": 0,
      "outputs": []
    },
    {
      "cell_type": "code",
      "metadata": {
        "id": "4imr6xhDh2KC",
        "colab_type": "code",
        "outputId": "deb026bb-2524-41b4-83b2-4315ae01bb6b",
        "colab": {
          "base_uri": "https://localhost:8080/",
          "height": 34
        }
      },
      "source": [
        "result"
      ],
      "execution_count": 0,
      "outputs": [
        {
          "output_type": "execute_result",
          "data": {
            "text/plain": [
              "True"
            ]
          },
          "metadata": {
            "tags": []
          },
          "execution_count": 131
        }
      ]
    },
    {
      "cell_type": "code",
      "metadata": {
        "id": "e6vJyKbBh2KF",
        "colab_type": "code",
        "outputId": "fda1a66d-2903-48d9-d934-3335d70f1f41",
        "colab": {
          "base_uri": "https://localhost:8080/",
          "height": 34
        }
      },
      "source": [
        "type(result)"
      ],
      "execution_count": 0,
      "outputs": [
        {
          "output_type": "execute_result",
          "data": {
            "text/plain": [
              "bool"
            ]
          },
          "metadata": {
            "tags": []
          },
          "execution_count": 132
        }
      ]
    },
    {
      "cell_type": "markdown",
      "metadata": {
        "id": "BwXF9uPIh2KK",
        "colab_type": "text"
      },
      "source": [
        "identitity"
      ]
    },
    {
      "cell_type": "code",
      "metadata": {
        "id": "49QllYsWh2KM",
        "colab_type": "code",
        "colab": {}
      },
      "source": [
        "a = 5\n",
        "b = 6\n",
        "c = 5"
      ],
      "execution_count": 0,
      "outputs": []
    },
    {
      "cell_type": "code",
      "metadata": {
        "id": "h3M1kYpDh2KN",
        "colab_type": "code",
        "outputId": "2542f61c-0a1f-4b43-f772-79bbb19495db",
        "colab": {
          "base_uri": "https://localhost:8080/",
          "height": 34
        }
      },
      "source": [
        "id(a)"
      ],
      "execution_count": 0,
      "outputs": [
        {
          "output_type": "execute_result",
          "data": {
            "text/plain": [
              "10910528"
            ]
          },
          "metadata": {
            "tags": []
          },
          "execution_count": 134
        }
      ]
    },
    {
      "cell_type": "code",
      "metadata": {
        "id": "BYl0a1znh2KP",
        "colab_type": "code",
        "outputId": "7971c1e4-0f97-43d7-fbf4-173a9f6d8372",
        "colab": {
          "base_uri": "https://localhost:8080/",
          "height": 34
        }
      },
      "source": [
        "id(c)"
      ],
      "execution_count": 0,
      "outputs": [
        {
          "output_type": "execute_result",
          "data": {
            "text/plain": [
              "10910528"
            ]
          },
          "metadata": {
            "tags": []
          },
          "execution_count": 135
        }
      ]
    },
    {
      "cell_type": "code",
      "metadata": {
        "id": "NxhE90hGh2KS",
        "colab_type": "code",
        "outputId": "e4438157-3d11-47bf-9752-f05722d35ac2",
        "colab": {
          "base_uri": "https://localhost:8080/",
          "height": 34
        }
      },
      "source": [
        "a is c"
      ],
      "execution_count": 0,
      "outputs": [
        {
          "output_type": "execute_result",
          "data": {
            "text/plain": [
              "True"
            ]
          },
          "metadata": {
            "tags": []
          },
          "execution_count": 136
        }
      ]
    },
    {
      "cell_type": "code",
      "metadata": {
        "id": "LSU8aLo1h2KT",
        "colab_type": "code",
        "colab": {}
      },
      "source": [
        "b is c"
      ],
      "execution_count": 0,
      "outputs": []
    },
    {
      "cell_type": "code",
      "metadata": {
        "id": "NjE2Co64h2KV",
        "colab_type": "code",
        "colab": {}
      },
      "source": [
        "a = 12311242141 \n",
        "b  =12311242141"
      ],
      "execution_count": 0,
      "outputs": []
    },
    {
      "cell_type": "code",
      "metadata": {
        "id": "16oqUQTRh2KW",
        "colab_type": "code",
        "colab": {}
      },
      "source": [
        "a is b"
      ],
      "execution_count": 0,
      "outputs": []
    },
    {
      "cell_type": "code",
      "metadata": {
        "id": "6yncas2rh2KY",
        "colab_type": "code",
        "colab": {}
      },
      "source": [
        "id(a)"
      ],
      "execution_count": 0,
      "outputs": []
    },
    {
      "cell_type": "code",
      "metadata": {
        "id": "II7IT12Sh2Kb",
        "colab_type": "code",
        "colab": {}
      },
      "source": [
        "id(b)"
      ],
      "execution_count": 0,
      "outputs": []
    },
    {
      "cell_type": "markdown",
      "metadata": {
        "id": "tFFrugF8h2Kh",
        "colab_type": "text"
      },
      "source": [
        "### Membership opertations"
      ]
    },
    {
      "cell_type": "code",
      "metadata": {
        "id": "eZN_i1vSh2Kh",
        "colab_type": "code",
        "outputId": "e4ffc4cb-b7ff-4d84-9a04-97110681897b",
        "colab": {
          "base_uri": "https://localhost:8080/",
          "height": 34
        }
      },
      "source": [
        "test"
      ],
      "execution_count": 0,
      "outputs": [
        {
          "output_type": "execute_result",
          "data": {
            "text/plain": [
              "'AAA BB AA DDD GG A'"
            ]
          },
          "metadata": {
            "tags": []
          },
          "execution_count": 138
        }
      ]
    },
    {
      "cell_type": "code",
      "metadata": {
        "id": "3JSkBPi1h2Kj",
        "colab_type": "code",
        "outputId": "54619fa0-3a6f-42e7-e4b0-eddfb6a1a947",
        "colab": {
          "base_uri": "https://localhost:8080/",
          "height": 34
        }
      },
      "source": [
        "'BB' in test"
      ],
      "execution_count": 0,
      "outputs": [
        {
          "output_type": "execute_result",
          "data": {
            "text/plain": [
              "True"
            ]
          },
          "metadata": {
            "tags": []
          },
          "execution_count": 139
        }
      ]
    },
    {
      "cell_type": "code",
      "metadata": {
        "id": "bB3pf_VFh2Kl",
        "colab_type": "code",
        "outputId": "de4b2b95-2d39-4916-b409-6eed8bca54dd",
        "colab": {
          "base_uri": "https://localhost:8080/",
          "height": 34
        }
      },
      "source": [
        "'G' in test"
      ],
      "execution_count": 0,
      "outputs": [
        {
          "output_type": "execute_result",
          "data": {
            "text/plain": [
              "True"
            ]
          },
          "metadata": {
            "tags": []
          },
          "execution_count": 140
        }
      ]
    },
    {
      "cell_type": "code",
      "metadata": {
        "id": "kmJUU1qrh2Kn",
        "colab_type": "code",
        "colab": {}
      },
      "source": [
        "'ZZ' in test"
      ],
      "execution_count": 0,
      "outputs": []
    },
    {
      "cell_type": "code",
      "metadata": {
        "id": "M9aq9qnRh2Kp",
        "colab_type": "code",
        "colab": {}
      },
      "source": [
        "'AB' not in test"
      ],
      "execution_count": 0,
      "outputs": []
    },
    {
      "cell_type": "code",
      "metadata": {
        "id": "TjCWnfa-h2Kr",
        "colab_type": "code",
        "colab": {}
      },
      "source": [
        "'A B' not in test"
      ],
      "execution_count": 0,
      "outputs": []
    },
    {
      "cell_type": "markdown",
      "metadata": {
        "id": "1F3pxISwh2Ks",
        "colab_type": "text"
      },
      "source": [
        "### Input function"
      ]
    },
    {
      "cell_type": "code",
      "metadata": {
        "id": "GweH2-5dh2Ks",
        "colab_type": "code",
        "outputId": "a6c1ec71-adec-4d44-dece-6cdf52f49a57",
        "colab": {
          "base_uri": "https://localhost:8080/",
          "height": 34
        }
      },
      "source": [
        "name = input('Write your name here: ')"
      ],
      "execution_count": 0,
      "outputs": [
        {
          "output_type": "stream",
          "text": [
            "Write your name here: berat\n"
          ],
          "name": "stdout"
        }
      ]
    },
    {
      "cell_type": "code",
      "metadata": {
        "id": "tM0s-NkDh2Ku",
        "colab_type": "code",
        "outputId": "ef8e0488-7d93-480c-d44a-397744da26ce",
        "colab": {
          "base_uri": "https://localhost:8080/",
          "height": 34
        }
      },
      "source": [
        "name"
      ],
      "execution_count": 0,
      "outputs": [
        {
          "output_type": "execute_result",
          "data": {
            "text/plain": [
              "'berat'"
            ]
          },
          "metadata": {
            "tags": []
          },
          "execution_count": 142
        }
      ]
    },
    {
      "cell_type": "markdown",
      "metadata": {
        "id": "7p3onmqRh2Kv",
        "colab_type": "text"
      },
      "source": [
        "# Exercises"
      ]
    },
    {
      "cell_type": "markdown",
      "metadata": {
        "id": "QR8o9t9oh2Kw",
        "colab_type": "text"
      },
      "source": [
        "__Exercise 1__\n",
        "\n",
        "Write code that takes a string variabe and removes puntuation (, and .) and leaves everything lowecase. Print the result."
      ]
    },
    {
      "cell_type": "code",
      "metadata": {
        "id": "4Kaqx302h2Kw",
        "colab_type": "code",
        "colab": {}
      },
      "source": [
        "string = 'Hello, my name is Pablo. What is your favourite food?'"
      ],
      "execution_count": 0,
      "outputs": []
    },
    {
      "cell_type": "code",
      "metadata": {
        "id": "OpXAAtrLWwoG",
        "colab_type": "code",
        "outputId": "c632074e-8920-452a-ccc4-621deb5b6ea5",
        "colab": {
          "base_uri": "https://localhost:8080/",
          "height": 34
        }
      },
      "source": [
        "string.replace(\",\",\"\").replace(\".\",\"\").replace(\"?\",\"\").lower()"
      ],
      "execution_count": 0,
      "outputs": [
        {
          "output_type": "execute_result",
          "data": {
            "text/plain": [
              "'hello my name is pablo what is your favourite food'"
            ]
          },
          "metadata": {
            "tags": []
          },
          "execution_count": 145
        }
      ]
    },
    {
      "cell_type": "markdown",
      "metadata": {
        "id": "DX9B-qpMh2Kx",
        "colab_type": "text"
      },
      "source": [
        "__Exercise 2__"
      ]
    },
    {
      "cell_type": "markdown",
      "metadata": {
        "id": "Iao9B-Dlh2Kx",
        "colab_type": "text"
      },
      "source": [
        "Using the input function ask the user to enter a number of seconds. Then calculate and print the number of hours, minutes and seconds withing that number of seconds. \n",
        "\n",
        "For example if user enters 3666 results shoud be something like: \n",
        "\"There are 1 hours, 1 minutes and 6 seconds in 3666 seconds\"\n",
        "\n",
        "Be careful, you should convert the user input from string to number."
      ]
    },
    {
      "cell_type": "code",
      "metadata": {
        "id": "AD_pB3LTh2Ky",
        "colab_type": "code",
        "colab": {}
      },
      "source": [
        "def second():\n",
        "  x=int(input(\"enter seconds: \"))\n",
        "  hour=math.trunc(int(x)/3600)\n",
        "  minute="
      ],
      "execution_count": 0,
      "outputs": []
    },
    {
      "cell_type": "code",
      "metadata": {
        "id": "8dlPQmE6Z5TB",
        "colab_type": "code",
        "colab": {}
      },
      "source": [
        "y=12.99"
      ],
      "execution_count": 0,
      "outputs": []
    },
    {
      "cell_type": "code",
      "metadata": {
        "id": "9Bixim3zZ77j",
        "colab_type": "code",
        "outputId": "5b4c8da4-106e-48c9-cfc0-338c58ea7116",
        "colab": {
          "base_uri": "https://localhost:8080/",
          "height": 163
        }
      },
      "source": [
        "int(21 / 5)"
      ],
      "execution_count": 0,
      "outputs": [
        {
          "output_type": "error",
          "ename": "TypeError",
          "evalue": "ignored",
          "traceback": [
            "\u001b[0;31m---------------------------------------------------------------------------\u001b[0m",
            "\u001b[0;31mTypeError\u001b[0m                                 Traceback (most recent call last)",
            "\u001b[0;32m<ipython-input-161-37d8674b43af>\u001b[0m in \u001b[0;36m<module>\u001b[0;34m()\u001b[0m\n\u001b[0;32m----> 1\u001b[0;31m \u001b[0mint\u001b[0m\u001b[0;34m(\u001b[0m\u001b[0;36m21\u001b[0m \u001b[0;34m/\u001b[0m \u001b[0;36m5\u001b[0m\u001b[0;34m)\u001b[0m\u001b[0;34m\u001b[0m\u001b[0;34m\u001b[0m\u001b[0m\n\u001b[0m",
            "\u001b[0;31mTypeError\u001b[0m: 'float' object is not callable"
          ]
        }
      ]
    },
    {
      "cell_type": "code",
      "metadata": {
        "id": "90Nr_-6bYJVS",
        "colab_type": "code",
        "colab": {}
      },
      "source": [
        "y=12.33"
      ],
      "execution_count": 0,
      "outputs": []
    },
    {
      "cell_type": "code",
      "metadata": {
        "id": "yMv1cRqTYvuY",
        "colab_type": "code",
        "outputId": "e07a8677-890d-46eb-a1f2-2279b7374ac6",
        "colab": {
          "base_uri": "https://localhost:8080/",
          "height": 34
        }
      },
      "source": [
        "type(y)"
      ],
      "execution_count": 0,
      "outputs": [
        {
          "output_type": "execute_result",
          "data": {
            "text/plain": [
              "float"
            ]
          },
          "metadata": {
            "tags": []
          },
          "execution_count": 163
        }
      ]
    },
    {
      "cell_type": "code",
      "metadata": {
        "id": "CsHf3OKkbIVs",
        "colab_type": "code",
        "colab": {}
      },
      "source": [
        "import math"
      ],
      "execution_count": 0,
      "outputs": []
    },
    {
      "cell_type": "code",
      "metadata": {
        "id": "abBMg2FGbJrI",
        "colab_type": "code",
        "outputId": "24992bb5-4089-4072-c660-93bb623cd2c4",
        "colab": {
          "base_uri": "https://localhost:8080/",
          "height": 34
        }
      },
      "source": [
        "math.trunc(y)"
      ],
      "execution_count": 0,
      "outputs": [
        {
          "output_type": "execute_result",
          "data": {
            "text/plain": [
              "12"
            ]
          },
          "metadata": {
            "tags": []
          },
          "execution_count": 166
        }
      ]
    },
    {
      "cell_type": "code",
      "metadata": {
        "id": "weXEcL8db2GS",
        "colab_type": "code",
        "colab": {}
      },
      "source": [
        "z=12.89"
      ],
      "execution_count": 0,
      "outputs": []
    },
    {
      "cell_type": "code",
      "metadata": {
        "id": "AdFJqhmFb5fO",
        "colab_type": "code",
        "outputId": "8a236fbb-9f66-4720-bdf2-1b1e5a59f254",
        "colab": {
          "base_uri": "https://localhost:8080/",
          "height": 34
        }
      },
      "source": [
        "math.trunc(z)"
      ],
      "execution_count": 0,
      "outputs": [
        {
          "output_type": "execute_result",
          "data": {
            "text/plain": [
              "12"
            ]
          },
          "metadata": {
            "tags": []
          },
          "execution_count": 168
        }
      ]
    },
    {
      "cell_type": "code",
      "metadata": {
        "id": "TETiGDgub8Yh",
        "colab_type": "code",
        "colab": {}
      },
      "source": [
        ""
      ],
      "execution_count": 0,
      "outputs": []
    }
  ]
}